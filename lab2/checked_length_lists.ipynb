{
 "cells": [
  {
   "cell_type": "markdown",
   "metadata": {},
   "source": [
    "# Natural lists"
   ]
  },
  {
   "cell_type": "code",
   "execution_count": 1,
   "metadata": {
    "collapsed": true
   },
   "outputs": [],
   "source": [
    "{-# LANGUAGE GADTs, DataKinds #-}\n",
    "\n",
    "data Nat = Z | S Nat\n",
    "\n",
    "-- A List of length 'n' holding values of type 'a'\n",
    "data List n a where\n",
    "    Nil  :: List Z a\n",
    "    Cons :: a -> List m a -> List (S m) a"
   ]
  },
  {
   "cell_type": "code",
   "execution_count": 2,
   "metadata": {
    "collapsed": true
   },
   "outputs": [],
   "source": [
    "-- Just for visualization (a better instance would work with read)\n",
    "instance Show a => Show (List n a) where\n",
    "    show Nil = \"Nil\"\n",
    "    show (Cons x xs) = show x ++ \"-\" ++ show xs"
   ]
  },
  {
   "cell_type": "code",
   "execution_count": 3,
   "metadata": {
    "collapsed": true
   },
   "outputs": [],
   "source": [
    "mmap :: (a -> b -> c) -> List n a -> List n b -> List n c\n",
    "mmap f (Cons x xs) (Cons y ys) = Cons (f x y) $ mmap f xs ys\n",
    "mmap f Nil Nil = Nil"
   ]
  },
  {
   "cell_type": "code",
   "execution_count": 4,
   "metadata": {
    "collapsed": true
   },
   "outputs": [],
   "source": [
    "l1 = Cons 1 ( Cons 2 ( Nil ) )\n",
    "l2 = Cons 3 ( Cons 4 ( Nil ) )\n",
    "l3 = Cons 5 (Nil)"
   ]
  },
  {
   "cell_type": "code",
   "execution_count": 6,
   "metadata": {
    "collapsed": true
   },
   "outputs": [],
   "source": [
    "main :: IO ()\n",
    "main =  print $ mmap (+) l1 l2\n",
    "       -- This causes GHC to throw an error:\n",
    "--        print $ mmap (+) l1 l3"
   ]
  },
  {
   "cell_type": "code",
   "execution_count": 7,
   "metadata": {},
   "outputs": [
    {
     "data": {
      "text/plain": [
       "4-6-Nil"
      ]
     },
     "metadata": {},
     "output_type": "display_data"
    }
   ],
   "source": [
    "main"
   ]
  },
  {
   "cell_type": "code",
   "execution_count": 12,
   "metadata": {
    "collapsed": true
   },
   "outputs": [],
   "source": [
    "import Data.Array\n",
    "-- | >> fibs 10 ! 3\n",
    "-- 3\n",
    "\n",
    "fibs    :: Int -> Array Int Int\n",
    "fibs n  =  a  where a = array (0,n) ([(0, 1), (1, 1)] ++ \n",
    "                                     [(i, a!(i-2) + a!(i-1)) | i <- [2..n]])\n",
    "\n"
   ]
  },
  {
   "cell_type": "code",
   "execution_count": 24,
   "metadata": {},
   "outputs": [
    {
     "data": {
      "text/plain": [
       "3"
      ]
     },
     "metadata": {},
     "output_type": "display_data"
    }
   ],
   "source": [
    "fibs 10 ! 3"
   ]
  }
 ],
 "metadata": {
  "kernelspec": {
   "display_name": "Haskell",
   "language": "haskell",
   "name": "haskell"
  },
  "language_info": {
   "codemirror_mode": "ihaskell",
   "file_extension": ".hs",
   "name": "haskell",
   "version": "8.0.2"
  }
 },
 "nbformat": 4,
 "nbformat_minor": 2
}
