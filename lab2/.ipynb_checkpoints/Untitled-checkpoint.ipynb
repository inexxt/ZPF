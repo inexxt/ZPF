{
 "cells": [
  {
   "cell_type": "code",
   "execution_count": 1,
   "metadata": {
    "collapsed": true
   },
   "outputs": [],
   "source": [
    "import Data.Array\n",
    "\n",
    "fibs    :: Int -> Array Int Int\n",
    "fibs n  =  a  where a = array (0,n) ([(0, 1), (1, 1)] ++ \n",
    "                                     [(i, a!(i-2) + a!(i-1)) | i <- [2..n]])"
   ]
  },
  {
   "cell_type": "code",
   "execution_count": 2,
   "metadata": {},
   "outputs": [],
   "source": [
    "split :: [a] -> ([a],[a])\n",
    "split []       = ([],[])\n",
    "split [x]      = ([x],[])\n",
    "split (x:y:zs) = (x:xs,y:ys)\n",
    "  where (xs,ys) = split zs"
   ]
  },
  {
   "cell_type": "code",
   "execution_count": 3,
   "metadata": {},
   "outputs": [],
   "source": [
    "mergeSort :: (a -> a -> Bool) -> [a] -> [a]\n",
    "mergeSort pred = go\n",
    "  where\n",
    "    go []  = []\n",
    "    go [x] = [x]\n",
    "    go xs  = merge (go xs1) (go xs2)\n",
    "      where (xs1, xs2) = split xs\n",
    "\n",
    "    merge xs [] = xs\n",
    "    merge [] ys = ys\n",
    "    merge (x:xs) (y:ys)\n",
    "      | pred x y  = x : merge xs (y:ys)\n",
    "      | otherwise = y : merge (x:xs) ys\n"
   ]
  },
  {
   "cell_type": "code",
   "execution_count": 4,
   "metadata": {},
   "outputs": [
    {
     "data": {
      "text/plain": [
       "[1,1,1,1,2,3,5]"
      ]
     },
     "metadata": {},
     "output_type": "display_data"
    }
   ],
   "source": [
    "mergeSort (<=) [1,2,3,5,1,1,1]"
   ]
  },
  {
   "cell_type": "code",
   "execution_count": 5,
   "metadata": {},
   "outputs": [
    {
     "data": {
      "text/plain": [
       "True"
      ]
     },
     "metadata": {},
     "output_type": "display_data"
    },
    {
     "data": {
      "text/plain": [
       "True"
      ]
     },
     "metadata": {},
     "output_type": "display_data"
    },
    {
     "data": {
      "text/plain": [
       "True"
      ]
     },
     "metadata": {},
     "output_type": "display_data"
    }
   ],
   "source": [
    "sort = mergeSort ((<=) :: Int -> Int -> Bool)\n",
    "\n",
    "sort [1,2,3,4] == [1,2,3,4]\n",
    "sort [4,3,2,1] == [1,2,3,4]\n",
    "sort [1,4,2,3] == [1,2,3,4]"
   ]
  },
  {
   "cell_type": "code",
   "execution_count": 6,
   "metadata": {
    "collapsed": true
   },
   "outputs": [],
   "source": [
    "prop_idempotent xs = sort (sort xs) == sort xs"
   ]
  },
  {
   "cell_type": "code",
   "execution_count": 7,
   "metadata": {},
   "outputs": [
    {
     "data": {
      "text/html": [
       "<style>/* Styles used for the Hoogle display in the pager */\n",
       ".hoogle-doc {\n",
       "display: block;\n",
       "padding-bottom: 1.3em;\n",
       "padding-left: 0.4em;\n",
       "}\n",
       ".hoogle-code {\n",
       "display: block;\n",
       "font-family: monospace;\n",
       "white-space: pre;\n",
       "}\n",
       ".hoogle-text {\n",
       "display: block;\n",
       "}\n",
       ".hoogle-name {\n",
       "color: green;\n",
       "font-weight: bold;\n",
       "}\n",
       ".hoogle-head {\n",
       "font-weight: bold;\n",
       "}\n",
       ".hoogle-sub {\n",
       "display: block;\n",
       "margin-left: 0.4em;\n",
       "}\n",
       ".hoogle-package {\n",
       "font-weight: bold;\n",
       "font-style: italic;\n",
       "}\n",
       ".hoogle-module {\n",
       "font-weight: bold;\n",
       "}\n",
       ".hoogle-class {\n",
       "font-weight: bold;\n",
       "}\n",
       ".get-type {\n",
       "color: green;\n",
       "font-weight: bold;\n",
       "font-family: monospace;\n",
       "display: block;\n",
       "white-space: pre-wrap;\n",
       "}\n",
       ".show-type {\n",
       "color: green;\n",
       "font-weight: bold;\n",
       "font-family: monospace;\n",
       "margin-left: 1em;\n",
       "}\n",
       ".mono {\n",
       "font-family: monospace;\n",
       "display: block;\n",
       "}\n",
       ".err-msg {\n",
       "color: red;\n",
       "font-style: italic;\n",
       "font-family: monospace;\n",
       "white-space: pre;\n",
       "display: block;\n",
       "}\n",
       "#unshowable {\n",
       "color: red;\n",
       "font-weight: bold;\n",
       "}\n",
       ".err-msg.in.collapse {\n",
       "padding-top: 0.7em;\n",
       "}\n",
       ".highlight-code {\n",
       "white-space: pre;\n",
       "font-family: monospace;\n",
       "}\n",
       ".suggestion-warning { \n",
       "font-weight: bold;\n",
       "color: rgb(200, 130, 0);\n",
       "}\n",
       ".suggestion-error { \n",
       "font-weight: bold;\n",
       "color: red;\n",
       "}\n",
       ".suggestion-name {\n",
       "font-weight: bold;\n",
       "}\n",
       "</style><span class='get-type'>prop_idempotent :: [Int] -> Bool</span>"
      ],
      "text/plain": [
       "prop_idempotent :: [Int] -> Bool"
      ]
     },
     "metadata": {},
     "output_type": "display_data"
    }
   ],
   "source": [
    ":t prop_idempotent"
   ]
  },
  {
   "cell_type": "code",
   "execution_count": 8,
   "metadata": {},
   "outputs": [],
   "source": [
    "import Data.List\n",
    "\n",
    "prop_permute :: ([a] -> Bool) -> [a] -> Bool\n",
    "prop_permute prop = all prop . permutations"
   ]
  },
  {
   "cell_type": "code",
   "execution_count": 9,
   "metadata": {},
   "outputs": [
    {
     "data": {
      "text/plain": [
       "True"
      ]
     },
     "metadata": {},
     "output_type": "display_data"
    }
   ],
   "source": [
    "prop_permute prop_idempotent [1..5]"
   ]
  },
  {
   "cell_type": "code",
   "execution_count": 10,
   "metadata": {
    "collapsed": true
   },
   "outputs": [],
   "source": [
    "import Test.QuickCheck"
   ]
  },
  {
   "cell_type": "code",
   "execution_count": 12,
   "metadata": {},
   "outputs": [
    {
     "data": {
      "text/plain": [
       "+++ OK, passed 100 tests."
      ]
     },
     "metadata": {},
     "output_type": "display_data"
    }
   ],
   "source": [
    "quickCheck prop_idempotent"
   ]
  },
  {
   "cell_type": "code",
   "execution_count": 13,
   "metadata": {},
   "outputs": [
    {
     "data": {
      "text/plain": [
       "+++ OK, passed 1000 tests."
      ]
     },
     "metadata": {},
     "output_type": "display_data"
    }
   ],
   "source": [
    "quickCheckWith stdArgs {maxSuccess = 1000}  prop_idempotent"
   ]
  },
  {
   "cell_type": "code",
   "execution_count": 22,
   "metadata": {},
   "outputs": [
    {
     "data": {
      "text/html": [
       "<style>/* Styles used for the Hoogle display in the pager */\n",
       ".hoogle-doc {\n",
       "display: block;\n",
       "padding-bottom: 1.3em;\n",
       "padding-left: 0.4em;\n",
       "}\n",
       ".hoogle-code {\n",
       "display: block;\n",
       "font-family: monospace;\n",
       "white-space: pre;\n",
       "}\n",
       ".hoogle-text {\n",
       "display: block;\n",
       "}\n",
       ".hoogle-name {\n",
       "color: green;\n",
       "font-weight: bold;\n",
       "}\n",
       ".hoogle-head {\n",
       "font-weight: bold;\n",
       "}\n",
       ".hoogle-sub {\n",
       "display: block;\n",
       "margin-left: 0.4em;\n",
       "}\n",
       ".hoogle-package {\n",
       "font-weight: bold;\n",
       "font-style: italic;\n",
       "}\n",
       ".hoogle-module {\n",
       "font-weight: bold;\n",
       "}\n",
       ".hoogle-class {\n",
       "font-weight: bold;\n",
       "}\n",
       ".get-type {\n",
       "color: green;\n",
       "font-weight: bold;\n",
       "font-family: monospace;\n",
       "display: block;\n",
       "white-space: pre-wrap;\n",
       "}\n",
       ".show-type {\n",
       "color: green;\n",
       "font-weight: bold;\n",
       "font-family: monospace;\n",
       "margin-left: 1em;\n",
       "}\n",
       ".mono {\n",
       "font-family: monospace;\n",
       "display: block;\n",
       "}\n",
       ".err-msg {\n",
       "color: red;\n",
       "font-style: italic;\n",
       "font-family: monospace;\n",
       "white-space: pre;\n",
       "display: block;\n",
       "}\n",
       "#unshowable {\n",
       "color: red;\n",
       "font-weight: bold;\n",
       "}\n",
       ".err-msg.in.collapse {\n",
       "padding-top: 0.7em;\n",
       "}\n",
       ".highlight-code {\n",
       "white-space: pre;\n",
       "font-family: monospace;\n",
       "}\n",
       ".suggestion-warning { \n",
       "font-weight: bold;\n",
       "color: rgb(200, 130, 0);\n",
       "}\n",
       ".suggestion-error { \n",
       "font-weight: bold;\n",
       "color: red;\n",
       "}\n",
       ".suggestion-name {\n",
       "font-weight: bold;\n",
       "}\n",
       "</style><span class='err-msg'>&lt;interactive&gt;:1:1: error: Data constructor not in scope: Property</span>"
      ],
      "text/plain": [
       "<interactive>:1:1: error: Data constructor not in scope: Property"
      ]
     },
     "metadata": {},
     "output_type": "display_data"
    }
   ],
   "source": [
    ":t Property"
   ]
  },
  {
   "cell_type": "code",
   "execution_count": 1,
   "metadata": {
    "collapsed": true
   },
   "outputs": [],
   "source": [
    "import qualified System.Random asR\n",
    "import Test.QuickCheck "
   ]
  },
  {
   "cell_type": "code",
   "execution_count": 4,
   "metadata": {},
   "outputs": [
    {
     "data": {
      "text/html": [
       "<style>/* Styles used for the Hoogle display in the pager */\n",
       ".hoogle-doc {\n",
       "display: block;\n",
       "padding-bottom: 1.3em;\n",
       "padding-left: 0.4em;\n",
       "}\n",
       ".hoogle-code {\n",
       "display: block;\n",
       "font-family: monospace;\n",
       "white-space: pre;\n",
       "}\n",
       ".hoogle-text {\n",
       "display: block;\n",
       "}\n",
       ".hoogle-name {\n",
       "color: green;\n",
       "font-weight: bold;\n",
       "}\n",
       ".hoogle-head {\n",
       "font-weight: bold;\n",
       "}\n",
       ".hoogle-sub {\n",
       "display: block;\n",
       "margin-left: 0.4em;\n",
       "}\n",
       ".hoogle-package {\n",
       "font-weight: bold;\n",
       "font-style: italic;\n",
       "}\n",
       ".hoogle-module {\n",
       "font-weight: bold;\n",
       "}\n",
       ".hoogle-class {\n",
       "font-weight: bold;\n",
       "}\n",
       ".get-type {\n",
       "color: green;\n",
       "font-weight: bold;\n",
       "font-family: monospace;\n",
       "display: block;\n",
       "white-space: pre-wrap;\n",
       "}\n",
       ".show-type {\n",
       "color: green;\n",
       "font-weight: bold;\n",
       "font-family: monospace;\n",
       "margin-left: 1em;\n",
       "}\n",
       ".mono {\n",
       "font-family: monospace;\n",
       "display: block;\n",
       "}\n",
       ".err-msg {\n",
       "color: red;\n",
       "font-style: italic;\n",
       "font-family: monospace;\n",
       "white-space: pre;\n",
       "display: block;\n",
       "}\n",
       "#unshowable {\n",
       "color: red;\n",
       "font-weight: bold;\n",
       "}\n",
       ".err-msg.in.collapse {\n",
       "padding-top: 0.7em;\n",
       "}\n",
       ".highlight-code {\n",
       "white-space: pre;\n",
       "font-family: monospace;\n",
       "}\n",
       ".suggestion-warning { \n",
       "font-weight: bold;\n",
       "color: rgb(200, 130, 0);\n",
       "}\n",
       ".suggestion-error { \n",
       "font-weight: bold;\n",
       "color: red;\n",
       "}\n",
       ".suggestion-name {\n",
       "font-weight: bold;\n",
       "}\n",
       "</style><span class='err-msg'>&lt;interactive&gt;:15:25: error:<br/>    • Couldn't match expected type ‘Q.Gen a’<br/>                  with actual type ‘Gen a0’<br/>      NB: ‘Gen’ is defined at &lt;interactive&gt;:9:1-42<br/>          ‘Q.Gen’ is defined in ‘Test.QuickCheck.Gen’ in package ‘QuickCheck-2.9.2’<br/>    • In the first argument of ‘Q.forAll’, namely ‘arbitrary’<br/>      In the expression: Q.forAll arbitrary f<br/>      In an equation for ‘property’: property f = Q.forAll arbitrary f<br/>    • Relevant bindings include<br/>        f :: a -&gt; b (bound at &lt;interactive&gt;:15:12)<br/>        property :: (a -&gt; b) -&gt; Q.Property (bound at &lt;interactive&gt;:15:3)</span>"
      ],
      "text/plain": [
       "<interactive>:15:25: error:\n",
       "    • Couldn't match expected type ‘Q.Gen a’\n",
       "                  with actual type ‘Gen a0’\n",
       "      NB: ‘Gen’ is defined at <interactive>:9:1-42\n",
       "          ‘Q.Gen’ is defined in ‘Test.QuickCheck.Gen’ in package ‘QuickCheck-2.9.2’\n",
       "    • In the first argument of ‘Q.forAll’, namely ‘arbitrary’\n",
       "      In the expression: Q.forAll arbitrary f\n",
       "      In an equation for ‘property’: property f = Q.forAll arbitrary f\n",
       "    • Relevant bindings include\n",
       "        f :: a -> b (bound at <interactive>:15:12)\n",
       "        property :: (a -> b) -> Q.Property (bound at <interactive>:15:3)"
      ]
     },
     "metadata": {},
     "output_type": "display_data"
    }
   ],
   "source": [
    "quickCheck  :: Testable a => a -> IO ()\n",
    "quickCheck   = check quick\n",
    "\n",
    "\n",
    "check :: Testable a => Config -> a -> IO ()\n",
    "check _ _ = do\n",
    "  print \"aaa\"\n",
    "  \n",
    "quick :: Config\n",
    "\n",
    "newtype Config = Config ()\n",
    "quick = Config ()\n",
    "\n",
    "\n",
    "-- generator bierze pożądany rozmiar i StdGen i daje a\n",
    "newtype Gen a = Gen (Int -> R.StdGen -> a)\n",
    "\n",
    "class Arbitrary a where\n",
    "  arbitrary   :: Gen a\n",
    "\n",
    "class Testable a where\n",
    "  property :: a -> Q.Property\n",
    "\n",
    "-- instance Testable Bool where...\n",
    "\n",
    "instance (Arbitrary a, Show a, Testable b) => Testable (a -> b) where\n",
    "  property f = Q.forAll arbitrary f\n",
    "\n",
    "chooseInt1 :: (Int,Int) -> Gen Int\n",
    "chooseInt1 bounds = Gen $ \\n r  -> fst (R.randomR bounds r)\n",
    "\n",
    "-- | `sized` tworzy generator z rodziny generatorów indeksowanej rozmiarem\n",
    "sized :: (Int -> Gen a) -> Gen a\n",
    "sized fgen = Gen (\\n r -> let Gen m = fgen n in m n r)\n",
    "\n",
    "-- | `resize` tworzy generator stałego rozmiaru\n",
    "resize :: Int -> Gen a -> Gen a\n",
    "resize n (Gen m) = Gen (\\_ r -> m n r)"
   ]
  },
  {
   "cell_type": "code",
   "execution_count": 2,
   "metadata": {},
   "outputs": [],
   "source": [
    "import System.Random\n",
    "  ( StdGen       -- :: *\n",
    "  , newStdGen    -- :: IO StdGen\n",
    "  , randomR      -- :: (RandomGen g, Random a) => (a, a) -> g -> (a, g)\n",
    "  , split        -- :: RandomGen g => g -> (g, g)\n",
    "                 -- rozdziela argument na dwa niezależne generatory\n",
    "  -- instance RandomGen StdGen\n",
    "  -- instance Random Int  \n",
    "  )\n",
    "\n",
    "roll :: StdGen -> Int\n",
    "roll rnd = fst $ randomR (1,6) rnd\n",
    "main = do \n",
    "  rnd <- newStdGen \n",
    "  let (r1, r2) = split rnd\n",
    "  print (roll r1)\n",
    "  print (roll r2)\n",
    "  print (roll r1)\n",
    "  print (roll r2)"
   ]
  },
  {
   "cell_type": "code",
   "execution_count": 3,
   "metadata": {},
   "outputs": [],
   "source": [
    "import Test.QuickCheck "
   ]
  },
  {
   "cell_type": "code",
   "execution_count": 4,
   "metadata": {},
   "outputs": [
    {
     "data": {
      "text/html": [
       "<style>/* Styles used for the Hoogle display in the pager */\n",
       ".hoogle-doc {\n",
       "display: block;\n",
       "padding-bottom: 1.3em;\n",
       "padding-left: 0.4em;\n",
       "}\n",
       ".hoogle-code {\n",
       "display: block;\n",
       "font-family: monospace;\n",
       "white-space: pre;\n",
       "}\n",
       ".hoogle-text {\n",
       "display: block;\n",
       "}\n",
       ".hoogle-name {\n",
       "color: green;\n",
       "font-weight: bold;\n",
       "}\n",
       ".hoogle-head {\n",
       "font-weight: bold;\n",
       "}\n",
       ".hoogle-sub {\n",
       "display: block;\n",
       "margin-left: 0.4em;\n",
       "}\n",
       ".hoogle-package {\n",
       "font-weight: bold;\n",
       "font-style: italic;\n",
       "}\n",
       ".hoogle-module {\n",
       "font-weight: bold;\n",
       "}\n",
       ".hoogle-class {\n",
       "font-weight: bold;\n",
       "}\n",
       ".get-type {\n",
       "color: green;\n",
       "font-weight: bold;\n",
       "font-family: monospace;\n",
       "display: block;\n",
       "white-space: pre-wrap;\n",
       "}\n",
       ".show-type {\n",
       "color: green;\n",
       "font-weight: bold;\n",
       "font-family: monospace;\n",
       "margin-left: 1em;\n",
       "}\n",
       ".mono {\n",
       "font-family: monospace;\n",
       "display: block;\n",
       "}\n",
       ".err-msg {\n",
       "color: red;\n",
       "font-style: italic;\n",
       "font-family: monospace;\n",
       "white-space: pre;\n",
       "display: block;\n",
       "}\n",
       "#unshowable {\n",
       "color: red;\n",
       "font-weight: bold;\n",
       "}\n",
       ".err-msg.in.collapse {\n",
       "padding-top: 0.7em;\n",
       "}\n",
       ".highlight-code {\n",
       "white-space: pre;\n",
       "font-family: monospace;\n",
       "}\n",
       ".suggestion-warning { \n",
       "font-weight: bold;\n",
       "color: rgb(200, 130, 0);\n",
       "}\n",
       ".suggestion-error { \n",
       "font-weight: bold;\n",
       "color: red;\n",
       "}\n",
       ".suggestion-name {\n",
       "font-weight: bold;\n",
       "}\n",
       "</style><span class='err-msg'>&lt;interactive&gt;:6:10: error:<br/>    Duplicate instance declarations:<br/>      instance Arbitrary a =&gt; Arbitrary [a] -- Defined at &lt;interactive&gt;:6:10<br/>      instance [safe] Arbitrary a =&gt; Arbitrary [a] -- Defined in ‘Test.QuickCheck.Arbitrary’<br/>&lt;interactive&gt;:1:10: error:<br/>    Duplicate instance declarations:<br/>      instance Arbitrary Int -- Defined at &lt;interactive&gt;:1:10<br/>      instance [safe] Arbitrary Int -- Defined in ‘Test.QuickCheck.Arbitrary’</span>"
      ],
      "text/plain": [
       "<interactive>:6:10: error:\n",
       "    Duplicate instance declarations:\n",
       "      instance Arbitrary a => Arbitrary [a] -- Defined at <interactive>:6:10\n",
       "      instance [safe] Arbitrary a => Arbitrary [a] -- Defined in ‘Test.QuickCheck.Arbitrary’\n",
       "<interactive>:1:10: error:\n",
       "    Duplicate instance declarations:\n",
       "      instance Arbitrary Int -- Defined at <interactive>:1:10\n",
       "      instance [safe] Arbitrary Int -- Defined in ‘Test.QuickCheck.Arbitrary’"
      ]
     },
     "metadata": {},
     "output_type": "display_data"
    }
   ],
   "source": [
    "-- choose :: (Int,Int) -> Gen Int\n",
    "-- oneof :: [Gen a] -> Gen a\n",
    "\n",
    "instance Arbitrary Int where\n",
    "    arbitrary = choose (-100, 100)\n",
    "\n",
    "data Colour = Red | Green | Blue\n",
    "instance Arbitrary Colour where\n",
    "    arbitrary = oneof [return Red, return Green, return Blue]\n",
    "\n",
    "instance Arbitrary a => Arbitrary [a] where\n",
    "    arbitrary = oneof [return [], liftM2 (:) arbitrary arbitrary]\n",
    "\n",
    "-- generate :: Gen a -> IO a"
   ]
  },
  {
   "cell_type": "code",
   "execution_count": 5,
   "metadata": {},
   "outputs": [],
   "source": [
    "-- frequency :: [(Int, Gen a)] -> Gen a\n",
    "\n",
    "-- instance Arbitrary a => Arbitrary [a] where\n",
    "--     arbitrary = frequency\n",
    "--         [ (1, return [])\n",
    "--         , (4, liftM2 (:) arbitrary arbitrary)]\n",
    "import Control.Monad\n",
    "\n",
    "data Tree a = Leaf a | Branch (Tree a) (Tree a)\n",
    "\n",
    "instance Arbitrary a => Arbitrary (Tree a) where\n",
    "    arbitrary = frequency\n",
    "        [(2, liftM Leaf arbitrary)\n",
    "        ,(1, liftM2 Branch arbitrary arbitrary)\n",
    "        ]\n",
    "\n",
    "instance Show a => Show (Tree a) where\n",
    "    show (Leaf x) = \"leaf x\"\n",
    "    show (Branch x y) = \" ( \" ++ show x ++ \" ) ( \" ++ show y ++ \" ) \"\n",
    "\n",
    "threetrees :: Gen [Tree Int]\n",
    "threetrees = sequence [arbitrary, arbitrary, arbitrary]"
   ]
  },
  {
   "cell_type": "code",
   "execution_count": 12,
   "metadata": {},
   "outputs": [
    {
     "data": {
      "text/plain": [
       "[leaf x,leaf x,leaf x ) ( leaf x ) ( leaf x ) ( leaf x ) ( leaf x ) ( leaf x]"
      ]
     },
     "metadata": {},
     "output_type": "display_data"
    }
   ],
   "source": [
    "generate threetrees"
   ]
  },
  {
   "cell_type": "code",
   "execution_count": null,
   "metadata": {
    "collapsed": true
   },
   "outputs": [],
   "source": []
  }
 ],
 "metadata": {
  "kernelspec": {
   "display_name": "Haskell",
   "language": "haskell",
   "name": "haskell"
  },
  "language_info": {
   "codemirror_mode": "ihaskell",
   "file_extension": ".hs",
   "name": "haskell",
   "version": "8.0.2"
  }
 },
 "nbformat": 4,
 "nbformat_minor": 2
}
